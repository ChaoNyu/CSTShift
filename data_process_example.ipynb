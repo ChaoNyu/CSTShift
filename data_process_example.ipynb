{
 "cells": [
  {
   "cell_type": "code",
   "execution_count": 1,
   "metadata": {},
   "outputs": [],
   "source": [
    "import rdkit\n",
    "from rdkit.Chem import AllChem\n",
    "import sys\n",
    "sys.path.append('src/')"
   ]
  },
  {
   "cell_type": "markdown",
   "metadata": {},
   "source": [
    "# Example of data processing for a new molecule\n",
    "Here we use the TIC-10 a as the example."
   ]
  },
  {
   "cell_type": "markdown",
   "metadata": {},
   "source": [
    "## Generate conformers and select the 5 lowest energy conformers"
   ]
  },
  {
   "cell_type": "code",
   "execution_count": null,
   "metadata": {},
   "outputs": [],
   "source": [
    "def gen_conformers_MMFF(mol, numConfs=1):\n",
    "    \"\"\"\n",
    "    Generate conformation with local minimization\n",
    "    Revised version for gen_conformers from https://github.com/jenniening/Frag20_prepare/blob/master/DataGen/genconfs.py#L171\n",
    "    \"\"\"\n",
    "\n",
    "    ### generate conf using ETKDG method ###\n",
    "    ps = AllChem.ETKDG()\n",
    "    ps.maxAttempts = 1000\n",
    "    ps.randomSeed = 1\n",
    "    ps.pruneRmsThresh = 0.1\n",
    "    ps.numThreads = 0\n",
    "    ids = AllChem.EmbedMultipleConfs(mol, numConfs, ps)  # the actual number of comformers generated may be less than numConfs\n",
    "    result = []\n",
    "    ### Check MMFF parms ###\n",
    "    if AllChem.MMFFHasAllMoleculeParams(mol):\n",
    "        ### MMFF optimize ###\n",
    "        for cid in ids:\n",
    "            _ = AllChem.MMFFOptimizeMolecule(mol, confId=cid)\n",
    "            ff = AllChem.MMFFGetMoleculeForceField(mol, AllChem.MMFFGetMoleculeProperties(mol), confId=cid)\n",
    "            energy = ff.CalcEnergy()  # kcal mol-1\n",
    "            result.append((cid, energy))\n",
    "    else:\n",
    "        print(\"MMFF not available\")\n",
    "    return result"
   ]
  },
  {
   "cell_type": "code",
   "execution_count": 8,
   "metadata": {},
   "outputs": [],
   "source": [
    "# TIC-10 a\n",
    "# SMILES could be generated in multiple ways, e.g. using ChemDraw\n",
    "mol = rdkit.Chem.MolFromSmiles('CC1=CC=CC=C1CN2C3=C(CN(CC3)CC4=CC=CC=C4)C(=O)N5C2=NCC5')\n",
    "# add H\n",
    "mol = rdkit.Chem.AddHs(mol)\n",
    "# generate 300 conformers\n",
    "result = gen_conformers_MMFF(mol, numConfs=300)\n",
    "# get the lowest 5 conformations and get their positions\n",
    "result.sort(key=lambda x: x[1])\n",
    "lowest_5_conf_ids = [x[0] for x in result[:5]]\n",
    "with open('DFT_opt_TIC-10a.com', 'w') as f:\n",
    "    for idx, conf_id in enumerate(lowest_5_conf_ids):\n",
    "        with open('DFT_opt_TIC-10a_' + str(idx) + '.com', 'w') as f:\n",
    "            f.write('\\n')\n",
    "            f.write('# opt freq B3LYP/6-31G(d) scrf=(solvent=Chloroform, smd) \\n\\n')  # customize the calculation method here\n",
    "            f.write('conformer' + str(conf_id) + '\\n\\n')\n",
    "            f.write('0 1\\n')\n",
    "            for atom in mol.GetAtoms():\n",
    "                pos = mol.GetConformer(conf_id).GetAtomPosition(atom.GetIdx())\n",
    "                f.write('%s %s %s %s\\n' % (atom.GetSymbol(), pos.x, pos.y, pos.z))\n",
    "            f.write('\\n')"
   ]
  },
  {
   "cell_type": "code",
   "execution_count": 2,
   "metadata": {},
   "outputs": [
    {
     "data": {
      "image/png": "[encoded data removed]",
      "text/plain": [
       "<rdkit.Chem.rdchem.Mol at 0x7f11b34e7a50>"
      ]
     },
     "execution_count": 2,
     "metadata": {},
     "output_type": "execute_result"
    }
   ],
   "source": [
    "# draw the mol with index for experimental chemical shift alignment\n",
    "mol = rdkit.Chem.MolFromSmiles('CC1=CC=CC=C1CN2C3=C(CN(CC3)CC4=CC=CC=C4)C(=O)N5C2=NCC5')\n",
    "for atom in mol.GetAtoms():\n",
    "    atom.SetAtomMapNum(atom.GetIdx())\n",
    "mol"
   ]
  },
  {
   "cell_type": "markdown",
   "metadata": {},
   "source": [
    "## DFT optimization of the 5 lowest energy conformers and select the lowest energy structure\n",
    "As shown above, DFT calculation could be:\n",
    "```\n",
    "# opt freq B3LYP/6-31G(d) scrf=(solvent=Chloroform, smd)\n",
    "```\n",
    "After DFT optimization of the 5 lowest energy conformers, we select the lowest energy conformer as the final structure. "
   ]
  },
  {
   "cell_type": "markdown",
   "metadata": {},
   "source": [
    "## DFT GIAO calculation for shielding tensors\n",
    "Using the final structure, we do the NMR-GIAO calculation for the molecule:\n",
    "```\n",
    "# B3LYP/6-31G(d) NMR=giao scrf=(solvent=Chloroform, smd)\n",
    "```"
   ]
  },
  {
   "cell_type": "markdown",
   "metadata": {},
   "source": [
    "## Dataset raw data organization\n",
    "\n",
    "After the GIAO calculation, one NMR log file for each molecule should be generated. All the log files should be organized under the `raw/NMR_output` folder. After running the test process the dataset folder should look like this:\n",
    "```bash\n",
    "CUSTOM_DATASET\n",
    "├── processed\n",
    "│   ├── processed.pt\n",
    "│   ├── split.pt\n",
    "├── raw\n",
    "│   ├── NMR_output\n",
    "│   │   ├── TIC10a.log\n",
    "│   │   ├── ...\n",
    "```\n",
    "Files in processed folder are generated by running the test process."
   ]
  }
 ],
 "metadata": {
  "kernelspec": {
   "display_name": "nmr-venv",
   "language": "python",
   "name": "python3"
  },
  "language_info": {
   "codemirror_mode": {
    "name": "ipython",
    "version": 3
   },
   "file_extension": ".py",
   "mimetype": "text/x-python",
   "name": "python",
   "nbconvert_exporter": "python",
   "pygments_lexer": "ipython3",
   "version": "3.8.12"
  }
 },
 "nbformat": 4,
 "nbformat_minor": 2
}
